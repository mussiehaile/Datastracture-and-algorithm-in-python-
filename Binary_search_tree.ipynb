{
 "cells": [
  {
   "attachments": {},
   "cell_type": "markdown",
   "metadata": {},
   "source": [
    "# BST"
   ]
  },
  {
   "cell_type": "code",
   "execution_count": 1,
   "metadata": {},
   "outputs": [
    {
     "name": "stdout",
     "output_type": "stream",
     "text": [
      "12 6 7 9 10 8 3 "
     ]
    }
   ],
   "source": [
    "# defing the root then the left and write\n",
    "class Node:\n",
    "    def __init__(self,data):\n",
    "        self.left = None\n",
    "        self.right= None\n",
    "        self.data = data\n",
    "        \n",
    "        \n",
    "    def insert(self,data):\n",
    "        if self.data is None:   #check if our root is not null if it is insert into it\n",
    "            self.data= data\n",
    "        else:\n",
    "            if data < self.data:    # if our data is less than root node the \n",
    "                \n",
    "                if self.left is None:   #if the letf node is empty insert the currrent data value to it\n",
    "                    self.left = Node(data)\n",
    "                else:\n",
    "                    self.left.insert(data)   #but if the value of left is not null then try to go deep in the leav and insert it\n",
    "                    \n",
    "            elif data > self.data:   #if our data is is greater than root\n",
    "                \n",
    "                if self.right is None:      #if right is null then insert it to right\n",
    "                   self.right= Node(data)\n",
    "                else:\n",
    "                    self.right.insert(data)   #but if thair is right node follow deep into it then add it to the last leaf\n",
    "\n",
    "\n",
    "# def inorderprint(r):\n",
    "#     if r is None:\n",
    "#         return\n",
    "#     else:\n",
    "#         inorderprint(r.left)\n",
    "#         print(r.data,end=\" \")\n",
    "#         inorderprint(r.right)\n",
    "\n",
    "\n",
    "# def preorderprint(r):\n",
    "#     if r is None:\n",
    "#         return\n",
    "#     else:\n",
    "#         print(r.data, end= \" \")\n",
    "#         preorderprint(r.left)\n",
    "#         preorderprint(r.right)\n",
    "        \n",
    "    \n",
    "def postorderprint(r):\n",
    "    if r is None:\n",
    "        return\n",
    "    else:\n",
    "        print(r.data, end= \" \")\n",
    "        postorderprint(r.right)\n",
    "        postorderprint(r.left)\n",
    "                \n",
    "\n",
    "if __name__ ==\"__main__\":\n",
    "    #print('welcome')\n",
    "    root = Node(12)\n",
    "    root.insert(6)\n",
    "    root.insert(3)\n",
    "    root.insert(7)\n",
    "    root.insert(9)\n",
    "    root.insert(8)\n",
    "    root.insert(10)\n",
    "    \n",
    "#inorderprint(root)\\\n",
    "    \n",
    "#preorderprint(root)\n",
    "\n",
    "postorderprint(root)\n"
   ]
  },
  {
   "cell_type": "code",
   "execution_count": null,
   "metadata": {},
   "outputs": [],
   "source": []
  }
 ],
 "metadata": {
  "kernelspec": {
   "display_name": "base",
   "language": "python",
   "name": "python3"
  },
  "language_info": {
   "codemirror_mode": {
    "name": "ipython",
    "version": 3
   },
   "file_extension": ".py",
   "mimetype": "text/x-python",
   "name": "python",
   "nbconvert_exporter": "python",
   "pygments_lexer": "ipython3",
   "version": "3.9.13"
  },
  "orig_nbformat": 4
 },
 "nbformat": 4,
 "nbformat_minor": 2
}
