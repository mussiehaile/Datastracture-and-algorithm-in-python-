{
 "cells": [
  {
   "attachments": {},
   "cell_type": "markdown",
   "metadata": {},
   "source": [
    "# List"
   ]
  },
  {
   "cell_type": "code",
   "execution_count": 10,
   "metadata": {},
   "outputs": [],
   "source": [
    "b = [2,4,5,6]"
   ]
  },
  {
   "cell_type": "code",
   "execution_count": 3,
   "metadata": {},
   "outputs": [],
   "source": [
    "#inserting\n",
    "b.insert(1,7)"
   ]
  },
  {
   "cell_type": "code",
   "execution_count": 4,
   "metadata": {},
   "outputs": [
    {
     "data": {
      "text/plain": [
       "[2, 7, 4, 5, 6]"
      ]
     },
     "execution_count": 4,
     "metadata": {},
     "output_type": "execute_result"
    }
   ],
   "source": [
    "b"
   ]
  },
  {
   "cell_type": "code",
   "execution_count": 6,
   "metadata": {},
   "outputs": [],
   "source": [
    "#delete the given value not the index\n",
    "b.remove(4)"
   ]
  },
  {
   "cell_type": "code",
   "execution_count": 7,
   "metadata": {},
   "outputs": [
    {
     "data": {
      "text/plain": [
       "[2, 7, 5, 6]"
      ]
     },
     "execution_count": 7,
     "metadata": {},
     "output_type": "execute_result"
    }
   ],
   "source": [
    "b"
   ]
  },
  {
   "attachments": {},
   "cell_type": "markdown",
   "metadata": {},
   "source": [
    "# Tuple"
   ]
  },
  {
   "cell_type": "code",
   "execution_count": 11,
   "metadata": {},
   "outputs": [],
   "source": [
    "#same as list but diffrence only in tuples are imutable \n",
    "\n",
    "t= ()\n",
    "t_1 = (3,2,6,5)\n",
    "t_2 = 3,6,5,7"
   ]
  },
  {
   "attachments": {},
   "cell_type": "markdown",
   "metadata": {},
   "source": [
    "# Dictionary"
   ]
  },
  {
   "cell_type": "code",
   "execution_count": 12,
   "metadata": {},
   "outputs": [],
   "source": [
    "# dictioarys are series ok key value pair and we can create them using\n",
    "d={}\n",
    "d_1 = {4:5,\n",
    "       5:7,\n",
    "       8:8\n",
    "       }\n",
    "\n",
    "#or\n",
    "d_2 = dict(\n",
    "    [\n",
    "        (4,5),\n",
    "        (2,4),\n",
    "        (5,7)\n",
    "    ]\n",
    ")"
   ]
  },
  {
   "cell_type": "code",
   "execution_count": 16,
   "metadata": {},
   "outputs": [
    {
     "name": "stdout",
     "output_type": "stream",
     "text": [
      "first way of getting value 5\n",
      "dict value 5\n"
     ]
    }
   ],
   "source": [
    "#get dict values(specific)\n",
    "print('first way of getting value',d_2[4])\n",
    "#or \n",
    "print('dict value',d_2.get(4))"
   ]
  },
  {
   "cell_type": "code",
   "execution_count": 19,
   "metadata": {},
   "outputs": [
    {
     "name": "stdout",
     "output_type": "stream",
     "text": [
      "both items  dict_items([(4, 5), (2, 4), (5, 7)])\n",
      "only the value dict_keys([4, 2, 5])\n",
      "only the value dict_values([5, 4, 7])\n"
     ]
    }
   ],
   "source": [
    "#getting both key and value\n",
    "#d_2.items() \n",
    "print ('both items ',d_2.items())\n",
    "#get only the keys and values\n",
    "\n",
    "print('only the value',d_2.keys())\n",
    "print('only the value',d_2.values())\n"
   ]
  },
  {
   "attachments": {},
   "cell_type": "markdown",
   "metadata": {},
   "source": [
    "# SET"
   ]
  },
  {
   "cell_type": "code",
   "execution_count": 22,
   "metadata": {},
   "outputs": [
    {
     "name": "stdout",
     "output_type": "stream",
     "text": [
      "value of set {'kebe', 'abe'}\n"
     ]
    }
   ],
   "source": [
    "# unorderd,efficient for search operation, no duplicate\n",
    "\n",
    "s= {'kebe','abe'}\n",
    "print('value of set',s)\n",
    "#adding element \n",
    "\n",
    "s.add('ayu')\n",
    "#adding multiple\n",
    "\n",
    "s.update(['dan','tom'])"
   ]
  },
  {
   "cell_type": "code",
   "execution_count": 23,
   "metadata": {},
   "outputs": [
    {
     "data": {
      "text/plain": [
       "{'abe', 'ayu', 'dan', 'kebe', 'tom'}"
      ]
     },
     "execution_count": 23,
     "metadata": {},
     "output_type": "execute_result"
    }
   ],
   "source": [
    "#updated set values\n",
    "s"
   ]
  },
  {
   "attachments": {},
   "cell_type": "markdown",
   "metadata": {},
   "source": [
    "# Array"
   ]
  },
  {
   "cell_type": "code",
   "execution_count": 24,
   "metadata": {},
   "outputs": [],
   "source": [
    "# array are rare in python, but thair main diffrence from a list is they store data sequentially in memeory\n",
    "import array\n",
    "\n",
    "a = array.array('i',[3,4,6])\n"
   ]
  },
  {
   "cell_type": "code",
   "execution_count": 25,
   "metadata": {},
   "outputs": [
    {
     "data": {
      "text/plain": [
       "array('i', [3, 4, 6])"
      ]
     },
     "execution_count": 25,
     "metadata": {},
     "output_type": "execute_result"
    }
   ],
   "source": [
    "a"
   ]
  },
  {
   "attachments": {},
   "cell_type": "markdown",
   "metadata": {},
   "source": [
    "# STACK"
   ]
  },
  {
   "cell_type": "code",
   "execution_count": 27,
   "metadata": {},
   "outputs": [],
   "source": [
    "# STACK WORKS IN LIFO MANER LAST IN FIRST OUT \n",
    "# CAN HAPPEN OVER-FLOW IF IT EXCEDES MAXIMUM SIZE OF STACK\n",
    "# UNDER-FLOW IF WE DELETE AN EMPITY ONE\n",
    "\n",
    "sta = []\n",
    "\n",
    "sta.append('d')\n",
    "sta.append('f')"
   ]
  },
  {
   "cell_type": "code",
   "execution_count": 28,
   "metadata": {},
   "outputs": [
    {
     "data": {
      "text/plain": [
       "['d', 'f']"
      ]
     },
     "execution_count": 28,
     "metadata": {},
     "output_type": "execute_result"
    }
   ],
   "source": [
    "sta"
   ]
  },
  {
   "cell_type": "code",
   "execution_count": 29,
   "metadata": {},
   "outputs": [
    {
     "data": {
      "text/plain": [
       "['d']"
      ]
     },
     "execution_count": 29,
     "metadata": {},
     "output_type": "execute_result"
    }
   ],
   "source": [
    "sta.pop()\n",
    "sta"
   ]
  },
  {
   "attachments": {},
   "cell_type": "markdown",
   "metadata": {},
   "source": [
    "# Tree and Binary Tree"
   ]
  },
  {
   "cell_type": "code",
   "execution_count": 3,
   "metadata": {},
   "outputs": [],
   "source": [
    "class Tree:\n",
    "    def __init__(self, val):\n",
    "        self.data = val\n",
    "        self.left = None\n",
    "        self.right = None\n",
    "\n",
    "    # insertion\n",
    "    def insert(self, node):\n",
    "        if self.data > node.data:   #if root> node \n",
    "            if self.left is None:   #if left= 0 ten insert node value to left\n",
    "                self.left = node\n",
    "            else:\n",
    "                self.left.insert(node)   \n",
    "        else:\n",
    "            if self.right is None:  #if right node is null make the node right then give the node value to write\n",
    "                self.right = node\n",
    "            else:\n",
    "                self.right.insert(node)\n",
    "\n",
    "        "
   ]
  },
  {
   "cell_type": "code",
   "execution_count": 4,
   "metadata": {},
   "outputs": [],
   "source": [
    "# Create the root node\n",
    "root = Tree(5)\n",
    "\n",
    "# Create new nodes\n",
    "node1 = Tree(3)\n",
    "node2 = Tree(7)\n",
    "node3 = Tree(2)\n",
    "node4 = Tree(4)\n",
    "\n",
    "# Insert the nodes into the tree\n",
    "root.insert(node1)\n",
    "root.insert(node2)\n",
    "root.insert(node3)\n",
    "root.insert(node4)"
   ]
  },
  {
   "cell_type": "code",
   "execution_count": 7,
   "metadata": {},
   "outputs": [],
   "source": [
    "#minimum value\n",
    "def minimum(node):\n",
    "    current = node\n",
    "    while(current.left is not None):\n",
    "        current= current.left\n",
    "        return current"
   ]
  },
  {
   "cell_type": "code",
   "execution_count": 8,
   "metadata": {},
   "outputs": [],
   "source": [
    "#deletion\n",
    "def delete(root,val):\n",
    "    if root is None:\n",
    "        return root\n",
    "    \n",
    "    #if we have only 1 left node\n",
    "    if val>root.val:\n",
    "        root.left= delete(root.left,val)\n",
    "        \n",
    "     # if we have 1 right node   \n",
    "    elif val >root.val:\n",
    "        root.right= delete(root.right,val)\n",
    "    \n",
    "    #if we have both\n",
    "    \n",
    "    temp = minimum(root.right)\n",
    "    root.val = temp.val\n",
    "    root.right= delete(root.right,temp.val)\n",
    "    return root\n",
    "        \n",
    "        \n",
    "    "
   ]
  },
  {
   "attachments": {},
   "cell_type": "markdown",
   "metadata": {},
   "source": []
  },
  {
   "cell_type": "code",
   "execution_count": null,
   "metadata": {},
   "outputs": [],
   "source": []
  }
 ],
 "metadata": {
  "kernelspec": {
   "display_name": "base",
   "language": "python",
   "name": "python3"
  },
  "language_info": {
   "codemirror_mode": {
    "name": "ipython",
    "version": 3
   },
   "file_extension": ".py",
   "mimetype": "text/x-python",
   "name": "python",
   "nbconvert_exporter": "python",
   "pygments_lexer": "ipython3",
   "version": "3.9.13"
  },
  "orig_nbformat": 4
 },
 "nbformat": 4,
 "nbformat_minor": 2
}
